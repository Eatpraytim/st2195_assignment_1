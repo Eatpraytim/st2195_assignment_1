{
 "cells": [
  {
   "cell_type": "markdown",
   "id": "f2ed2680",
   "metadata": {},
   "source": [
    "# Assignment_1"
   ]
  },
  {
   "cell_type": "markdown",
   "id": "a95801fa",
   "metadata": {},
   "source": [
    "## Introduction to Python"
   ]
  },
  {
   "cell_type": "markdown",
   "id": "731812a1",
   "metadata": {},
   "source": [
    "*This is an opportunity to illustrate ability to utilise markdown within Jupyter Notebooks.*\n",
    "\n",
    "\n",
    "**Python**\n",
    "\n",
    "I can show you the code to print integers 1 to 10 in python. \n",
    "\n",
    "```{python}\n",
    "for i in range (1,11):\n",
    "    print (i)\n",
    "```\n",
    "\n",
    "Thank you for reading my markdown file. "
   ]
  }
 ],
 "metadata": {
  "kernelspec": {
   "display_name": "Python 3 (ipykernel)",
   "language": "python",
   "name": "python3"
  },
  "language_info": {
   "codemirror_mode": {
    "name": "ipython",
    "version": 3
   },
   "file_extension": ".py",
   "mimetype": "text/x-python",
   "name": "python",
   "nbconvert_exporter": "python",
   "pygments_lexer": "ipython3",
   "version": "3.9.7"
  }
 },
 "nbformat": 4,
 "nbformat_minor": 5
}
